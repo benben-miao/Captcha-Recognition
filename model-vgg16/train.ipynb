{
 "cells": [
  {
   "cell_type": "code",
   "execution_count": null,
   "source": [
    "from captcha.image import ImageCaptcha\r\n",
    "import matplotlib.pyplot as plt\r\n",
    "from IPython.display import Image\r\n",
    "import numpy as np\r\n",
    "import random\r\n",
    "import string\r\n",
    "\r\n",
    "from keras.layers import Input, Conv2D, BatchNormalization, MaxPooling2D, Dense, Flatten, Dropout \r\n",
    "from keras.models import Model, Sequential, load_model\r\n",
    "from keras.callbacks import ModelCheckpoint, TensorBoard\r\n",
    "from keras.utils.vis_utils import plot_model"
   ],
   "outputs": [],
   "metadata": {}
  },
  {
   "cell_type": "code",
   "execution_count": null,
   "source": [
    "%matplotlib inline\r\n",
    "%config InlineBackend.figure_format = 'retina'\r\n",
    "\r\n",
    "dig_asc = string.digits + string.ascii_uppercase\r\n",
    "print(dig_asc)\r\n",
    "\r\n",
    "width, height, n_len, n_class = 170, 80, 4, len(dig_asc)\r\n",
    "\r\n",
    "cap_gen = ImageCaptcha(width=width, height=height)\r\n",
    "cap_str = ''.join([random.choice(dig_asc) for i in range(4)])\r\n",
    "cap_img = cap_gen.generate_image(cap_str)\r\n",
    "\r\n",
    "plt.imshow(cap_img)\r\n",
    "plt.title('Real: %s' %(cap_str))"
   ],
   "outputs": [],
   "metadata": {}
  },
  {
   "cell_type": "code",
   "execution_count": null,
   "source": [
    "def genCap(batch_size=32):\r\n",
    "  X = np.zeros((batch_size, height, width, 3), dtype=np.uint8)\r\n",
    "  y = [np.zeros((batch_size, n_class), dtype=np.uint8) for i in range(n_len)]\r\n",
    "\r\n",
    "  cap_gen = ImageCaptcha(width=width, height=height)\r\n",
    "  while True:\r\n",
    "    for i in range(batch_size):\r\n",
    "      cap_str = ''.join([random.choice(dig_asc) for i in range(n_len)])\r\n",
    "      X[i] = cap_gen.generate_image(cap_str)\r\n",
    "      for pos, char in enumerate(cap_str):\r\n",
    "        y[pos][i, :] = 0\r\n",
    "        y[pos][i, dig_asc.find(char)] = 1\r\n",
    "    yield X, y\r\n",
    "\r\n",
    "def decode(y):\r\n",
    "  y = np.argmax(np.array(y), axis=2)[:,0]\r\n",
    "  return ''.join([dig_asc[x] for x in y])\r\n",
    "\r\n",
    "X, y = next(genCap(1))\r\n",
    "plt.imshow(X[0])\r\n",
    "plt.title(decode(y))"
   ],
   "outputs": [],
   "metadata": {}
  },
  {
   "cell_type": "code",
   "execution_count": null,
   "source": [
    "from keras.models import *\r\n",
    "from keras.layers import *\r\n",
    "\r\n",
    "input_tensor = Input(shape=(height, width, 3))\r\n",
    "x = input_tensor\r\n",
    "for i in range(4):\r\n",
    "    x = Conv2D(filters=32*2**i, kernel_size=(3, 3), activation='relu')(x)\r\n",
    "    x = Conv2D(filters=32*2**i, kernel_size=(3, 3), activation='relu')(x)\r\n",
    "    x = BatchNormalization(axis=3)(x)\r\n",
    "    x = MaxPooling2D((2, 2))(x)\r\n",
    "x = Flatten()(x)\r\n",
    "x = [Dense(n_class, activation='softmax', name='D%d'%(n+1))(x) for n in range(4)]\r\n",
    "model = Model(inputs=input_tensor, outputs=x)\r\n",
    "\r\n",
    "model.compile(loss='categorical_crossentropy',\r\n",
    "              optimizer='adadelta',\r\n",
    "              metrics=['accuracy'])\r\n",
    "\r\n",
    "plot_model(model, to_file='model_captcha.png', show_shapes=True, show_layer_names=True)\r\n",
    "Image('model_captcha.png')"
   ],
   "outputs": [],
   "metadata": {}
  },
  {
   "cell_type": "code",
   "execution_count": null,
   "source": [
    "model.fit_generator(genCap(), steps_per_epoch=10000, epochs=5,\r\n",
    "                    validation_data=genCap(), validation_steps=1000)"
   ],
   "outputs": [],
   "metadata": {}
  },
  {
   "cell_type": "code",
   "execution_count": null,
   "source": [
    "X, y = next(genCap(1))\r\n",
    "y_pred = model.predict(X)\r\n",
    "plt.title('real: %s\\n pred: %s'%(decode(y), decode(y_pred)))\r\n",
    "plt.imshow(X[0])"
   ],
   "outputs": [],
   "metadata": {}
  }
 ],
 "metadata": {
  "orig_nbformat": 4,
  "language_info": {
   "name": "python",
   "version": "3.9.6",
   "mimetype": "text/x-python",
   "codemirror_mode": {
    "name": "ipython",
    "version": 3
   },
   "pygments_lexer": "ipython3",
   "nbconvert_exporter": "python",
   "file_extension": ".py"
  },
  "kernelspec": {
   "name": "python3",
   "display_name": "Python 3.9.6 64-bit ('ai-ml': conda)"
  },
  "interpreter": {
   "hash": "4a9bbc8145e4f31de78f4f707d8e2bb1e5bbc4da27e41bda4bc59c34c576de31"
  }
 },
 "nbformat": 4,
 "nbformat_minor": 2
}